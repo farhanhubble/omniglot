{
 "cells": [
  {
   "cell_type": "markdown",
   "metadata": {},
   "source": [
    "## About the Omniglot Dataset:\n",
    "The omniglot dataset contains 105px\\*105px of handwritten characters from 50 real and fictitious alphabets. The dataset has been divided in to a training set, inside the `images_background` folder and a test set under the `images_evaluation` folder. Both datasets are disjoint, each containing a different set of alphabets. For example Greek alphabet is present in the training dataset but not in the test set, while Mongolian is present in the test set but not in the training set. The training set has 30 different alphabets, while the test set has 20. The number of characters in every language varies a lot but overall the 50 alphabets encompass 1623 characters. For each character there are exactly 20 samples, each of which has been written by a different writer (drawer). So the total number of images is 1623\\*20 = 32460.  \n",
    "\n",
    "**Note:** The original omniglot dataset recorded stroke and time information that gave hints on how a particular character was drawn. This information could be useful to an online handwriting recognition system but we intend to use an offline approach, that uses images of the  characters instead of the stroke information for a more holistic approach."
   ]
  },
  {
   "cell_type": "code",
   "execution_count": 63,
   "metadata": {},
   "outputs": [],
   "source": [
    "from glob import glob"
   ]
  },
  {
   "cell_type": "code",
   "execution_count": 2,
   "metadata": {},
   "outputs": [],
   "source": [
    "train_paths = './python/images_background/'\n",
    "test_paths = './python/images_evaluation/'"
   ]
  },
  {
   "cell_type": "code",
   "execution_count": 3,
   "metadata": {},
   "outputs": [],
   "source": [
    "train_directories = glob(train_paths+'*')\n",
    "test_directories = glob(test_paths+'*')"
   ]
  },
  {
   "cell_type": "code",
   "execution_count": 4,
   "metadata": {},
   "outputs": [],
   "source": [
    "train_alphabet_to_path = dict([(path.split('/')[-1],path) for path in train_directories])\n",
    "test_alphabet_to_path = dict([(path.split('/')[-1],path) for path in test_directories])"
   ]
  },
  {
   "cell_type": "markdown",
   "metadata": {},
   "source": [
    "**Print names and number of alphabets in train and test sets.**"
   ]
  },
  {
   "cell_type": "code",
   "execution_count": 5,
   "metadata": {},
   "outputs": [
    {
     "name": "stdout",
     "output_type": "stream",
     "text": [
      "Training set: 30 alphabets\n",
      " ['Japanese_(hiragana)', 'Mkhedruli_(Georgian)', 'Latin', 'Hebrew', 'Gujarati', 'Inuktitut_(Canadian_Aboriginal_Syllabics)', 'N_Ko', 'Asomtavruli_(Georgian)', 'Ojibwe_(Canadian_Aboriginal_Syllabics)', 'Syriac_(Estrangelo)', 'Grantha', 'Anglo-Saxon_Futhorc', 'Alphabet_of_the_Magi', 'Sanskrit', 'Bengali', 'Tagalog', 'Tifinagh', 'Futurama', 'Blackfoot_(Canadian_Aboriginal_Syllabics)', 'Malay_(Jawi_-_Arabic)', 'Early_Aramaic', 'Armenian', 'Burmese_(Myanmar)', 'Japanese_(katakana)', 'Arcadian', 'Balinese', 'Korean', 'Cyrillic', 'Greek', 'Braille'] \n",
      "\n",
      "Test set: 20 alphabets\n",
      " ['Malayalam', 'Mongolian', 'Old_Church_Slavonic_(Cyrillic)', 'Keble', 'Manipuri', 'Sylheti', 'Aurek-Besh', 'Ge_ez', 'Tengwar', 'Kannada', 'Syriac_(Serto)', 'Avesta', 'Oriya', 'Glagolitic', 'Tibetan', 'Atemayar_Qelisayer', 'Gurmukhi', 'Atlantean', 'ULOG', 'Angelic']\n"
     ]
    }
   ],
   "source": [
    "print('Training set:',f'{len(train_alphabet_to_path)} alphabets\\n',list(train_alphabet_to_path.keys()),'\\n')\n",
    "print('Test set:',f'{len(test_alphabet_to_path)} alphabets\\n',list(test_alphabet_to_path.keys()))"
   ]
  },
  {
   "cell_type": "markdown",
   "metadata": {},
   "source": [
    "### Load datasets\n",
    "The function `load_data()` takes a dictionary mapping alphabets in a dataset to their directories. It returns a list of triples, each triple of the form `(alphabet_name, data, character_label)`. When `simulate` is set to true, `data` is just the full path of the character image, otherwise it is the image data. "
   ]
  },
  {
   "cell_type": "code",
   "execution_count": 42,
   "metadata": {},
   "outputs": [],
   "source": [
    "from PIL import Image\n",
    "import numpy as np\n",
    "from os import path\n",
    "\n",
    "def load_data(alphabet_to_path, simulate=False):\n",
    "    def _filename_to_charcode_(name:str):\n",
    "        \"\"\":param name: Filename of the type n1n2n3n4_mm.xyz\n",
    "        :returns: n1n2n3n4 converted to integer.\n",
    "        \"\"\"\n",
    "        return int(name.split('.')[0].split('_')[0])\n",
    "        \n",
    "    def _load_img_file_(file_path:str):\n",
    "        \"\"\"Loads the image data from a single image file.\n",
    "        :param file_path: Absolute or relative path to an image file.\n",
    "        :returns: A tuple. If simulate is True the first member of the tuple is the path to the image file \n",
    "        otherwise it is a numpy array contianing the image data. \n",
    "        and the second member is an integer code for character in the image.\n",
    "        \"\"\"\n",
    "        data =  file_path if simulate else np.array(Image.open(file_path), dtype=np.float)\n",
    "        return data, _filename_to_charcode_(path.basename(file_path))\n",
    "    \n",
    "    def _load_char_dir_(dir_path):\n",
    "        \"\"\"Loads the image data for every image file for a particular character.\n",
    "        :param dir_path: Path(string) to a directory containing one or more image files.\n",
    "        :returns: A list of tuples, each tuple has image data as its first member and a character code \n",
    "        as the second member.\n",
    "        \"\"\"\n",
    "        file_paths = glob(dir_path+'/*')\n",
    "        return [_load_img_file_(file_path) for file_path in file_paths]\n",
    "    \n",
    "    def _load_alphabet_dir_(dir_path):\n",
    "        \"\"\"Loads the image data for every character in an alphabet (say Greek).\n",
    "        :param dir_path: Path(string) to a directory corresponding to an alphabet, containing one or more directories,\n",
    "        one each for every character in the alphabet.\n",
    "        :returns: A list of tuples, each tuple has image data as its first member and a character code \n",
    "        as the second member.\n",
    "        \"\"\"\n",
    "        char_dir_paths = glob(dir_path+'/*')\n",
    "        # Flatten list from individual character-level directories into a single list of tuples.\n",
    "        return [data_and_label for char_dir_path in char_dir_paths for data_and_label in _load_char_dir_(char_dir_path) ]\n",
    "    \n",
    "    ## Build list of triples (alphabet_name, data, character_code)\n",
    "    return [(k,*alphabet_data) for k in alphabet_to_path for alphabet_data in _load_alphabet_dir_(alphabet_to_path[k]) ]"
   ]
  },
  {
   "cell_type": "code",
   "execution_count": 22,
   "metadata": {},
   "outputs": [],
   "source": [
    "train_data = load_data(train_alphabet_to_path, simulate=True)\n",
    "test_data  = load_data(test_alphabet_to_path , simulate=True)"
   ]
  },
  {
   "cell_type": "code",
   "execution_count": 24,
   "metadata": {},
   "outputs": [
    {
     "data": {
      "text/plain": [
       "[('Japanese_(hiragana)',\n",
       "  './python/images_background/Japanese_(hiragana)/character36/0523_17.png',\n",
       "  523),\n",
       " ('Japanese_(hiragana)',\n",
       "  './python/images_background/Japanese_(hiragana)/character36/0523_18.png',\n",
       "  523),\n",
       " ('Japanese_(hiragana)',\n",
       "  './python/images_background/Japanese_(hiragana)/character36/0523_04.png',\n",
       "  523),\n",
       " ('Japanese_(hiragana)',\n",
       "  './python/images_background/Japanese_(hiragana)/character36/0523_13.png',\n",
       "  523),\n",
       " ('Japanese_(hiragana)',\n",
       "  './python/images_background/Japanese_(hiragana)/character36/0523_02.png',\n",
       "  523),\n",
       " ('Japanese_(hiragana)',\n",
       "  './python/images_background/Japanese_(hiragana)/character36/0523_03.png',\n",
       "  523),\n",
       " ('Japanese_(hiragana)',\n",
       "  './python/images_background/Japanese_(hiragana)/character36/0523_10.png',\n",
       "  523),\n",
       " ('Japanese_(hiragana)',\n",
       "  './python/images_background/Japanese_(hiragana)/character36/0523_08.png',\n",
       "  523),\n",
       " ('Japanese_(hiragana)',\n",
       "  './python/images_background/Japanese_(hiragana)/character36/0523_14.png',\n",
       "  523),\n",
       " ('Japanese_(hiragana)',\n",
       "  './python/images_background/Japanese_(hiragana)/character36/0523_07.png',\n",
       "  523)]"
      ]
     },
     "execution_count": 24,
     "metadata": {},
     "output_type": "execute_result"
    }
   ],
   "source": [
    "train_data[:10]"
   ]
  },
  {
   "cell_type": "markdown",
   "metadata": {},
   "source": [
    "### Convert to dataframe"
   ]
  },
  {
   "cell_type": "code",
   "execution_count": 36,
   "metadata": {},
   "outputs": [],
   "source": [
    "import pandas as pd"
   ]
  },
  {
   "cell_type": "code",
   "execution_count": 37,
   "metadata": {},
   "outputs": [],
   "source": [
    "col_names = ['alphabet','path','charcode']"
   ]
  },
  {
   "cell_type": "code",
   "execution_count": 38,
   "metadata": {},
   "outputs": [],
   "source": [
    "train_df = pd.DataFrame(train_data, columns=col_names)\n",
    "test_df = pd.DataFrame(test_data, columns=col_names)"
   ]
  },
  {
   "cell_type": "code",
   "execution_count": 39,
   "metadata": {},
   "outputs": [
    {
     "data": {
      "text/html": [
       "<div>\n",
       "<style scoped>\n",
       "    .dataframe tbody tr th:only-of-type {\n",
       "        vertical-align: middle;\n",
       "    }\n",
       "\n",
       "    .dataframe tbody tr th {\n",
       "        vertical-align: top;\n",
       "    }\n",
       "\n",
       "    .dataframe thead th {\n",
       "        text-align: right;\n",
       "    }\n",
       "</style>\n",
       "<table border=\"1\" class=\"dataframe\">\n",
       "  <thead>\n",
       "    <tr style=\"text-align: right;\">\n",
       "      <th></th>\n",
       "      <th>alphabet</th>\n",
       "      <th>path</th>\n",
       "      <th>charcode</th>\n",
       "    </tr>\n",
       "  </thead>\n",
       "  <tbody>\n",
       "    <tr>\n",
       "      <th>0</th>\n",
       "      <td>Japanese_(hiragana)</td>\n",
       "      <td>./python/images_background/Japanese_(hiragana)...</td>\n",
       "      <td>523</td>\n",
       "    </tr>\n",
       "    <tr>\n",
       "      <th>1</th>\n",
       "      <td>Japanese_(hiragana)</td>\n",
       "      <td>./python/images_background/Japanese_(hiragana)...</td>\n",
       "      <td>523</td>\n",
       "    </tr>\n",
       "    <tr>\n",
       "      <th>2</th>\n",
       "      <td>Japanese_(hiragana)</td>\n",
       "      <td>./python/images_background/Japanese_(hiragana)...</td>\n",
       "      <td>523</td>\n",
       "    </tr>\n",
       "    <tr>\n",
       "      <th>3</th>\n",
       "      <td>Japanese_(hiragana)</td>\n",
       "      <td>./python/images_background/Japanese_(hiragana)...</td>\n",
       "      <td>523</td>\n",
       "    </tr>\n",
       "    <tr>\n",
       "      <th>4</th>\n",
       "      <td>Japanese_(hiragana)</td>\n",
       "      <td>./python/images_background/Japanese_(hiragana)...</td>\n",
       "      <td>523</td>\n",
       "    </tr>\n",
       "  </tbody>\n",
       "</table>\n",
       "</div>"
      ],
      "text/plain": [
       "              alphabet                                               path  \\\n",
       "0  Japanese_(hiragana)  ./python/images_background/Japanese_(hiragana)...   \n",
       "1  Japanese_(hiragana)  ./python/images_background/Japanese_(hiragana)...   \n",
       "2  Japanese_(hiragana)  ./python/images_background/Japanese_(hiragana)...   \n",
       "3  Japanese_(hiragana)  ./python/images_background/Japanese_(hiragana)...   \n",
       "4  Japanese_(hiragana)  ./python/images_background/Japanese_(hiragana)...   \n",
       "\n",
       "   charcode  \n",
       "0       523  \n",
       "1       523  \n",
       "2       523  \n",
       "3       523  \n",
       "4       523  "
      ]
     },
     "execution_count": 39,
     "metadata": {},
     "output_type": "execute_result"
    }
   ],
   "source": [
    "train_df.head()"
   ]
  },
  {
   "cell_type": "code",
   "execution_count": 40,
   "metadata": {},
   "outputs": [
    {
     "data": {
      "text/html": [
       "<div>\n",
       "<style scoped>\n",
       "    .dataframe tbody tr th:only-of-type {\n",
       "        vertical-align: middle;\n",
       "    }\n",
       "\n",
       "    .dataframe tbody tr th {\n",
       "        vertical-align: top;\n",
       "    }\n",
       "\n",
       "    .dataframe thead th {\n",
       "        text-align: right;\n",
       "    }\n",
       "</style>\n",
       "<table border=\"1\" class=\"dataframe\">\n",
       "  <thead>\n",
       "    <tr style=\"text-align: right;\">\n",
       "      <th></th>\n",
       "      <th>alphabet</th>\n",
       "      <th>path</th>\n",
       "      <th>charcode</th>\n",
       "    </tr>\n",
       "  </thead>\n",
       "  <tbody>\n",
       "    <tr>\n",
       "      <th>0</th>\n",
       "      <td>Malayalam</td>\n",
       "      <td>./python/images_evaluation/Malayalam/character...</td>\n",
       "      <td>1307</td>\n",
       "    </tr>\n",
       "    <tr>\n",
       "      <th>1</th>\n",
       "      <td>Malayalam</td>\n",
       "      <td>./python/images_evaluation/Malayalam/character...</td>\n",
       "      <td>1307</td>\n",
       "    </tr>\n",
       "    <tr>\n",
       "      <th>2</th>\n",
       "      <td>Malayalam</td>\n",
       "      <td>./python/images_evaluation/Malayalam/character...</td>\n",
       "      <td>1307</td>\n",
       "    </tr>\n",
       "    <tr>\n",
       "      <th>3</th>\n",
       "      <td>Malayalam</td>\n",
       "      <td>./python/images_evaluation/Malayalam/character...</td>\n",
       "      <td>1307</td>\n",
       "    </tr>\n",
       "    <tr>\n",
       "      <th>4</th>\n",
       "      <td>Malayalam</td>\n",
       "      <td>./python/images_evaluation/Malayalam/character...</td>\n",
       "      <td>1307</td>\n",
       "    </tr>\n",
       "  </tbody>\n",
       "</table>\n",
       "</div>"
      ],
      "text/plain": [
       "    alphabet                                               path  charcode\n",
       "0  Malayalam  ./python/images_evaluation/Malayalam/character...      1307\n",
       "1  Malayalam  ./python/images_evaluation/Malayalam/character...      1307\n",
       "2  Malayalam  ./python/images_evaluation/Malayalam/character...      1307\n",
       "3  Malayalam  ./python/images_evaluation/Malayalam/character...      1307\n",
       "4  Malayalam  ./python/images_evaluation/Malayalam/character...      1307"
      ]
     },
     "execution_count": 40,
     "metadata": {},
     "output_type": "execute_result"
    }
   ],
   "source": [
    "test_df.head()"
   ]
  },
  {
   "cell_type": "markdown",
   "metadata": {},
   "source": [
    "Print total number of instances."
   ]
  },
  {
   "cell_type": "code",
   "execution_count": 30,
   "metadata": {},
   "outputs": [
    {
     "name": "stdout",
     "output_type": "stream",
     "text": [
      "19280 13180\n"
     ]
    }
   ],
   "source": [
    "print(len(train_data), len(test_data))"
   ]
  },
  {
   "cell_type": "markdown",
   "metadata": {},
   "source": [
    "Print number of unique characters."
   ]
  },
  {
   "cell_type": "code",
   "execution_count": 31,
   "metadata": {},
   "outputs": [
    {
     "name": "stdout",
     "output_type": "stream",
     "text": [
      "(964,) (659,)\n"
     ]
    }
   ],
   "source": [
    "print(train_df.charcode.unique().shape, test_df.charcode.unique().shape)"
   ]
  },
  {
   "cell_type": "markdown",
   "metadata": {},
   "source": [
    "### View a few character images."
   ]
  },
  {
   "cell_type": "code",
   "execution_count": 79,
   "metadata": {},
   "outputs": [],
   "source": [
    "import matplotlib.pyplot as plt\n",
    "\n",
    "def img_grid(imgs, labels=None, nb_cols=8):\n",
    "    nb_imgs = len(imgs)\n",
    "    nb_rows = np.ceil(nb_imgs/nb_cols)\n",
    "    \n",
    "    plt.figure(figsize=(nb_cols, nb_rows))\n",
    "    for i in range(nb_imgs):\n",
    "        plt.tight_layout(w_pad=0.5)\n",
    "        plt.subplot(nb_rows, nb_cols, i+1,)\n",
    "        plt.xticks([])\n",
    "        plt.yticks([])\n",
    "        plt.imshow(imgs[i], cmap='gray')\n",
    "        if labels is not None:\n",
    "            plt.ylabel(labels[i] )\n",
    "    \n",
    "    plt.plot()\n",
    "    "
   ]
  },
  {
   "cell_type": "code",
   "execution_count": 80,
   "metadata": {},
   "outputs": [],
   "source": [
    "def display_chars(df):\n",
    "    labels = df.charcode\n",
    "    img_data = list(map(Image.open,df.path))\n",
    "    \n",
    "    img_grid(img_data, labels)"
   ]
  },
  {
   "cell_type": "code",
   "execution_count": 82,
   "metadata": {},
   "outputs": [
    {
     "data": {
      "image/png": "[encoded data removed]",
      "text/plain": [
       "<matplotlib.figure.Figure at 0x7f3997c4a5f8>"
      ]
     },
     "metadata": {},
     "output_type": "display_data"
    }
   ],
   "source": [
    "display_chars(train_df[:100])"
   ]
  },
  {
   "cell_type": "code",
   "execution_count": 32,
   "metadata": {},
   "outputs": [],
   "source": [
    "import matplotlib.pyplot as plt"
   ]
  },
  {
   "cell_type": "code",
   "execution_count": 33,
   "metadata": {},
   "outputs": [
    {
     "data": {
      "image/png": "[encoded data removed]",
      "text/plain": [
       "<matplotlib.figure.Figure at 0x7f39985ab828>"
      ]
     },
     "metadata": {},
     "output_type": "display_data"
    }
   ],
   "source": [
    "train_df.charcode.hist()\n",
    "plt.show()"
   ]
  },
  {
   "cell_type": "markdown",
   "metadata": {},
   "source": [
    "## Understanding The Classification Task\n",
    "The omniglot dataset is different from regular classification datasets in two aspects:\n",
    "\n",
    "- The number of instances (drawings) per class is just 20.\n",
    "- The background set, meant to be used for training, is disjoint with the evaluation set.\n",
    "\n",
    "The omniglot dataset was designed for one-shot learning, where a classifier has to look at a test instance of an unknown class and $K$ sample instances from known classes and then predict the target class of the test instance based on its similarity to the sample instances."
   ]
  },
  {
   "cell_type": "markdown",
   "metadata": {},
   "source": [
    "## Traditional Supervrised Training Methodology\n",
    "In any traditional classification approach, the classifier is trained with inputs of the form \n",
    "\n",
    "$$[(x_1,y_1),\\ (x_2,y_2),\\ ...\\ (x_n,y_n)]$$\n",
    "\n",
    "where the $x_i$ are instances of data from different classes and the $y_i$ are the corresponding labels.\n",
    "\n",
    "Such a classifier, having model parameters $\\Theta$, learns to find discriminative features $f(x,\\Theta)$ and predict class probabilities $\\hat{y}=g(f(x,\\Theta))$ so as to minimize some loss $L(\\cdot)$ that is a function of the actual class labels  and the class probabilities predicted by the classifier:\n",
    "\n",
    "$$\\underset {\\Theta}{min}\\  \\sum \\limits_{i=1}^{n} L(y_i, \\hat{y_i}) \\equiv \\underset {\\Theta}{min}\\  \\sum \\limits_{i=1}^{n} L(y_i,g(f(x_i,\\Theta))) $$\n",
    "\n",
    "Given enough instances of data per class, the classifier learns to recognize intra-class variations from inter-class variations without explicitly being designed to do so."
   ]
  },
  {
   "cell_type": "markdown",
   "metadata": {},
   "source": [
    "**The omniglot dataset has only 20 images per character and it is very difficult to train a classifier to learn to recognize the characters in the training set with such a limited amount of data. More importantly, the train and test sets are disjoint so a classifier trained to discriminate among the characters in the training set is unlikely to learn to generalize to discriminate among the characters in the test set. **\n"
   ]
  },
  {
   "cell_type": "markdown",
   "metadata": {},
   "source": [
    "## Supervised Training for Performing Pairwise Discrimination\n",
    "An alternative approach that works with a smaller datasets is to explicitly train a classifier with pairs of inputs of the form $[\\big((x_1,y_1),(x_1',y_1')\\big),\\ \\big((x_2,y_2),(x_2',y_2')\\big)\\ ...\\ \\big((x_n,y_n),(x_n',y_n')\\big)]$. The classifier learns to find the discriminative features $f(x_i,x_i',\\Theta)$ and predict the  probability $ \\hat{y_i} = g(f(x_i,x_i',\\Theta))$, that the two instances $x_i$, $x_i'$, that are part of the $i^{th}$ training example are dissimilar, by minimizing a loss function $L(\\cdot)$, that is function of the actual dissimilarity and the predicted dissimilarity:\n",
    "$$\\underset \\Theta min  \\sum \\limits_{i=1}^{n} L\\left(D(y_i,y_i'), \\hat{y_i}\\right) \\equiv \\underset \\Theta min \\sum \\limits_{i=1}^{n}  L\\left(D(y_i, y_i'), g\\left(f(x_i,x_i',\\Theta)\\right)\\right)$$\n",
    "\n",
    "where $D(\\cdot)$ is a symmetric (dis)similarity function.\n",
    "\n",
    "If the pairs $(x_i, x_i')$ are randomized the network learns to discriminate pairs of instances without consideration to their order. In other words, the network learns a symmetric score function for the (dis)similarity of instances in a pair. \n",
    "\n",
    "For a training set with a moderate size $n$, the number of training pairs that could be formed is $O(n^2)$ and so the problem of small data is solved. Because the network learns to discriminate instances in pairs the problem of a disjoint train and test sets is also solved. \n",
    "\n",
    "To test the generalization ability of such a network, it is fed pairs of inputs from the test set. If the netowrk is trained to learn the right features, it is able to discriminate pairs of inputs, neither of which it has seen before.  \n",
    "\n",
    "---"
   ]
  },
  {
   "cell_type": "code",
   "execution_count": 19,
   "metadata": {},
   "outputs": [
    {
     "data": {
      "text/plain": [
       "array([523, 515, 488, 536, 492, 531, 520, 500, 503, 526, 489, 504, 494,\n",
       "       495, 522, 519, 507, 498, 533, 513, 491, 505, 529, 497, 518, 511,\n",
       "       535, 521, 539, 509, 516, 508, 530, 534, 538, 514, 506, 499, 532,\n",
       "       502, 537, 493, 528, 501, 510, 525, 524, 527, 490, 512, 517, 496,\n",
       "       764, 756, 729, 733, 761, 741, 744, 767, 730, 745, 735, 736, 763,\n",
       "       760, 748, 739, 754, 732, 746, 738, 759, 752, 762, 750, 757, 749,\n",
       "       755, 747, 740, 743, 734, 769, 742, 751, 766, 765, 768, 731, 753,\n",
       "       758, 737, 683, 687, 695, 698, 684, 699, 689, 690, 702, 693, 708,\n",
       "       686, 700, 692, 706, 704, 703, 701, 694, 697, 688, 696, 705, 685,\n",
       "       707, 691, 466, 470, 478, 481, 467, 482, 472, 473, 485, 476, 469,\n",
       "       483, 475, 487, 486, 484, 477, 480, 471, 479, 468, 474, 453, 445,\n",
       "       418, 422, 461, 450, 430, 433, 456, 419, 434, 424, 425, 452, 449,\n",
       "       437, 428, 463, 443, 421, 435, 459, 427, 448, 441, 465, 451, 439,\n",
       "       446, 438, 460, 464, 444, 436, 429, 462, 432, 423, 458, 431, 440,\n",
       "       455, 454, 457, 420, 442, 447, 426, 540, 544, 552, 555, 541, 546,\n",
       "       547, 550, 543, 549, 551, 554, 545, 553, 542, 548, 831, 804, 808,\n",
       "       836, 816, 819, 805, 820, 810, 811, 835, 823, 814, 829, 807, 821,\n",
       "       813, 834, 827, 825, 832, 824, 830, 822, 815, 818, 809, 817, 826,\n",
       "       806, 828, 833, 812, 103,  95,  68,  72, 100,  80,  83, 106,  69,\n",
       "        84,  74,  75, 102,  99,  87,  78,  93,  71,  85,  77,  98,  91,\n",
       "       101,  89,  96,  88,  94,  86,  79,  82,  73,  81,  90, 105, 104,\n",
       "       107,  70,  92,  97,  76, 837, 841, 849, 838, 843, 844, 847, 840,\n",
       "       846, 848, 842, 850, 839, 845, 273, 277, 285, 288, 274, 289, 279,\n",
       "       280, 292, 283, 276, 290, 282, 294, 293, 291, 284, 287, 278, 286,\n",
       "       295, 275, 281, 386, 378, 351, 355, 383, 363, 366, 389, 352, 367,\n",
       "       357, 358, 385, 382, 370, 361, 376, 354, 368, 392, 360, 381, 374,\n",
       "       384, 372, 379, 371, 393, 377, 369, 362, 365, 356, 391, 364, 373,\n",
       "       388, 387, 390, 353, 375, 380, 359, 323, 296, 300, 308, 311, 297,\n",
       "       312, 302, 303, 315, 306, 321, 299, 313, 305, 319, 317, 324, 316,\n",
       "       322, 314, 307, 310, 301, 309, 318, 298, 320, 304, 709, 713, 721,\n",
       "       724, 710, 725, 715, 716, 728, 719, 712, 726, 718, 727, 720, 723,\n",
       "       714, 722, 711, 717, 886, 878, 851, 855, 883, 863, 866, 889, 852,\n",
       "       867, 857, 858, 885, 882, 870, 861, 876, 854, 868, 892, 860, 881,\n",
       "       874, 884, 872, 879, 871, 877, 869, 862, 865, 856, 891, 864, 873,\n",
       "       888, 887, 890, 853, 875, 880, 859, 167, 159, 132, 136, 175, 164,\n",
       "       144, 147, 170, 133, 148, 138, 139, 166, 163, 151, 142, 177, 157,\n",
       "       135, 149, 173, 141, 162, 155, 165, 153, 160, 152, 174, 158, 150,\n",
       "       143, 176, 146, 137, 172, 145, 154, 169, 168, 171, 134, 156, 161,\n",
       "       140, 893, 897, 905, 908, 894, 909, 899, 900, 903, 896, 902, 904,\n",
       "       907, 898, 906, 895, 901, 945, 937, 910, 958, 914, 953, 942, 922,\n",
       "       925, 948, 911, 926, 916, 917, 944, 941, 929, 920, 955, 935, 913,\n",
       "       927, 963, 951, 919, 940, 933, 957, 943, 961, 931, 938, 962, 930,\n",
       "       952, 956, 960, 936, 928, 921, 954, 924, 959, 915, 950, 923, 932,\n",
       "       947, 964, 946, 949, 912, 934, 939, 918, 325, 329, 337, 340, 326,\n",
       "       341, 331, 332, 344, 335, 350, 328, 342, 334, 348, 346, 345, 343,\n",
       "       336, 339, 330, 338, 347, 327, 349, 333, 178, 182, 190, 179, 184,\n",
       "       185, 188, 181, 187, 189, 183, 191, 180, 186, 591, 583, 556, 560,\n",
       "       588, 568, 571, 594, 557, 572, 562, 563, 590, 587, 575, 566, 581,\n",
       "       559, 573, 565, 586, 579, 589, 577, 584, 576, 582, 574, 567, 570,\n",
       "       561, 569, 578, 593, 592, 595, 558, 580, 585, 564, 251, 255, 263,\n",
       "       266, 252, 267, 257, 258, 270, 261, 254, 268, 260, 272, 271, 269,\n",
       "       262, 265, 256, 264, 253, 259,  62,  54,  27,  31,  59,  39,  42,\n",
       "        65,  28,  43,  33,  34,  61,  58,  46,  37,  52,  30,  44,  36,\n",
       "        57,  50,  60,  48,  55,  47,  53,  45,  38,  41,  32,  67,  40,\n",
       "        49,  64,  63,  66,  29,  51,  56,  35, 797, 770, 774, 802, 782,\n",
       "       785, 771, 786, 776, 777, 801, 789, 780, 795, 773, 787, 779, 800,\n",
       "       793, 803, 791, 798, 790, 796, 788, 781, 784, 775, 783, 792, 772,\n",
       "       794, 799, 778, 631, 623, 596, 600, 639, 628, 608, 611, 634, 597,\n",
       "       612, 602, 603, 630, 627, 615, 606, 641, 621, 599, 613, 637, 605,\n",
       "       626, 619, 629, 617, 624, 616, 638, 642, 622, 614, 607, 640, 610,\n",
       "       601, 636, 609, 618, 633, 632, 635, 598, 620, 625, 604,   1,   5,\n",
       "        13,  16,   2,  17,   7,   8,  20,  11,  26,   4,  18,  10,  24,\n",
       "        22,  21,  19,  12,  15,   6,  14,  23,   3,  25,   9, 108, 112,\n",
       "       120, 123, 109, 124, 114, 115, 127, 118, 111, 125, 117, 131, 129,\n",
       "       128, 126, 119, 122, 113, 121, 130, 110, 116, 678, 670, 643, 647,\n",
       "       675, 655, 658, 681, 644, 659, 649, 650, 677, 674, 662, 653, 668,\n",
       "       646, 660, 652, 673, 666, 676, 664, 671, 663, 669, 661, 654, 657,\n",
       "       648, 656, 665, 680, 679, 682, 645, 667, 672, 651, 245, 218, 222,\n",
       "       250, 230, 233, 219, 234, 224, 225, 249, 237, 228, 243, 221, 235,\n",
       "       227, 248, 241, 239, 246, 238, 244, 236, 229, 232, 223, 231, 240,\n",
       "       220, 242, 247, 226, 394, 398, 406, 409, 395, 410, 400, 401, 413,\n",
       "       404, 397, 411, 403, 417, 415, 414, 412, 405, 408, 399, 407, 416,\n",
       "       396, 402, 192, 196, 204, 207, 193, 208, 198, 199, 211, 202, 217,\n",
       "       195, 209, 201, 215, 213, 212, 210, 203, 206, 197, 205, 214, 194,\n",
       "       216, 200])"
      ]
     },
     "execution_count": 19,
     "metadata": {},
     "output_type": "execute_result"
    }
   ],
   "source": [
    "train_df.charcode.unique()"
   ]
  },
  {
   "cell_type": "code",
   "execution_count": null,
   "metadata": {},
   "outputs": [],
   "source": []
  }
 ],
 "metadata": {
  "kernelspec": {
   "display_name": "Python 3",
   "language": "python",
   "name": "python3"
  },
  "language_info": {
   "codemirror_mode": {
    "name": "ipython",
    "version": 3
   },
   "file_extension": ".py",
   "mimetype": "text/x-python",
   "name": "python",
   "nbconvert_exporter": "python",
   "pygments_lexer": "ipython3",
   "version": "3.6.4"
  }
 },
 "nbformat": 4,
 "nbformat_minor": 2
}
