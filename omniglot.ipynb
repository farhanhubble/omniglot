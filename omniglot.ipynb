{
 "cells": [
  {
   "cell_type": "markdown",
   "metadata": {},
   "source": [
    "## About the Omniglot Dataset:\n",
    "The omniglot dataset contains 105px\\*105px of handwritten characters from 50 real and fictitious alphabets. The dataset has been divided in to a training set, inside the `images_background` folder and a test set under the `images_evaluation` folder. Both datasets are disjoint, each containing a different set of alphabets. For example Greek alphabet is present in the training dataset but not in the test set, while Mongolian is present in the test set but not in the training set. The training set has 30 different alphabets, while the test set has 20. The number of characters in every language varies a lot but overall the 50 alphabets encompass 1623 characters. For each character there are exactly 20 samples, each of which has been written by a different writer (drawer). So the total number of images is 1623\\*20 = 32460.  \n",
    "\n",
    "**Note:** The original omniglot dataset recorded stroke and time information that gave hints on how a particular character was drawn. This information could be useful to an online handwriting recognition system but we intend to use an offline approach, that uses images of the  characters instead of the stroke information for a more holistic approach."
   ]
  },
  {
   "cell_type": "code",
   "execution_count": 1,
   "metadata": {},
   "outputs": [],
   "source": [
    "from glob import glob"
   ]
  },
  {
   "cell_type": "code",
   "execution_count": 2,
   "metadata": {},
   "outputs": [],
   "source": [
    "train_paths = './python/images_background/'\n",
    "test_paths = './python/images_evaluation/'"
   ]
  },
  {
   "cell_type": "code",
   "execution_count": 3,
   "metadata": {},
   "outputs": [],
   "source": [
    "train_directories = glob(train_paths+'*')\n",
    "test_directories = glob(test_paths+'*')"
   ]
  },
  {
   "cell_type": "code",
   "execution_count": 4,
   "metadata": {},
   "outputs": [],
   "source": [
    "train_alphabet_to_path = dict([(path.split('/')[-1],path) for path in train_directories])\n",
    "test_alphabet_to_path = dict([(path.split('/')[-1],path) for path in test_directories])"
   ]
  },
  {
   "cell_type": "markdown",
   "metadata": {},
   "source": [
    "**Print names and number of alphabets in train and test sets.**"
   ]
  },
  {
   "cell_type": "code",
   "execution_count": 5,
   "metadata": {},
   "outputs": [
    {
     "name": "stdout",
     "output_type": "stream",
     "text": [
      "Training set: 30 alphabets\n",
      " ['Japanese_(hiragana)', 'Mkhedruli_(Georgian)', 'Latin', 'Hebrew', 'Gujarati', 'Inuktitut_(Canadian_Aboriginal_Syllabics)', 'N_Ko', 'Asomtavruli_(Georgian)', 'Ojibwe_(Canadian_Aboriginal_Syllabics)', 'Syriac_(Estrangelo)', 'Grantha', 'Anglo-Saxon_Futhorc', 'Alphabet_of_the_Magi', 'Sanskrit', 'Bengali', 'Tagalog', 'Tifinagh', 'Futurama', 'Blackfoot_(Canadian_Aboriginal_Syllabics)', 'Malay_(Jawi_-_Arabic)', 'Early_Aramaic', 'Armenian', 'Burmese_(Myanmar)', 'Japanese_(katakana)', 'Arcadian', 'Balinese', 'Korean', 'Cyrillic', 'Greek', 'Braille'] \n",
      "\n",
      "Test set: 20 alphabets\n",
      " ['Malayalam', 'Mongolian', 'Old_Church_Slavonic_(Cyrillic)', 'Keble', 'Manipuri', 'Sylheti', 'Aurek-Besh', 'Ge_ez', 'Tengwar', 'Kannada', 'Syriac_(Serto)', 'Avesta', 'Oriya', 'Glagolitic', 'Tibetan', 'Atemayar_Qelisayer', 'Gurmukhi', 'Atlantean', 'ULOG', 'Angelic']\n"
     ]
    }
   ],
   "source": [
    "print('Training set:',f'{len(train_alphabet_to_path)} alphabets\\n',list(train_alphabet_to_path.keys()),'\\n')\n",
    "print('Test set:',f'{len(test_alphabet_to_path)} alphabets\\n',list(test_alphabet_to_path.keys()))"
   ]
  },
  {
   "cell_type": "markdown",
   "metadata": {},
   "source": [
    "### Load datasets\n",
    "The function `load_data()` takes a dictionary mapping alphabets in a dataset to their directories. It returns a list of triples, each triple of the form `(alphabet_name, data, character_code)`. The character code is derived from the file name and is a 3 or 4 digit integer. \n",
    "\n",
    "When the parameter `simulate` is set to true, `data` is just the full path of the character image, otherwise it is the image data.  "
   ]
  },
  {
   "cell_type": "code",
   "execution_count": 6,
   "metadata": {},
   "outputs": [],
   "source": [
    "from PIL import Image\n",
    "import numpy as np\n",
    "from os import path\n",
    "\n",
    "def load_data(alphabet_to_path, simulate=False):\n",
    "    def _filename_to_charcode_(name:str):\n",
    "        \"\"\":param name: Filename of the type n1n2n3n4_mm.xyz\n",
    "        :returns: n1n2n3n4 converted to integer.\n",
    "        \"\"\"\n",
    "        return int(name.split('.')[0].split('_')[0])\n",
    "        \n",
    "    def _load_img_file_(file_path:str):\n",
    "        \"\"\"Loads the image data from a single image file.\n",
    "        :param file_path: Absolute or relative path to an image file.\n",
    "        :returns: A tuple. If simulate is True the first member of the tuple is the path to the image file \n",
    "        otherwise it is a numpy array contianing the image data. \n",
    "        and the second member is an integer code for character in the image.\n",
    "        \"\"\"\n",
    "        data =  file_path if simulate else np.array(Image.open(file_path), dtype=np.float)\n",
    "        return data, _filename_to_charcode_(path.basename(file_path))\n",
    "    \n",
    "    def _load_char_dir_(dir_path):\n",
    "        \"\"\"Loads the image data for every image file for a particular character.\n",
    "        :param dir_path: Path(string) to a directory containing one or more image files.\n",
    "        :returns: A list of tuples, each tuple has image data as its first member and a character code \n",
    "        as the second member.\n",
    "        \"\"\"\n",
    "        file_paths = glob(dir_path+'/*')\n",
    "        return [_load_img_file_(file_path) for file_path in file_paths]\n",
    "    \n",
    "    def _load_alphabet_dir_(dir_path):\n",
    "        \"\"\"Loads the image data for every character in an alphabet (say Greek).\n",
    "        :param dir_path: Path(string) to a directory corresponding to an alphabet, containing one or more directories,\n",
    "        one each for every character in the alphabet.\n",
    "        :returns: A list of tuples, each tuple has image data as its first member and a character code \n",
    "        as the second member.\n",
    "        \"\"\"\n",
    "        char_dir_paths = glob(dir_path+'/*')\n",
    "        # Flatten list from individual character-level directories into a single list of tuples.\n",
    "        return [data_and_label for char_dir_path in char_dir_paths for data_and_label in _load_char_dir_(char_dir_path) ]\n",
    "    \n",
    "    ## Build list of triples (alphabet_name, data, character_code)\n",
    "    return [(k,*alphabet_data) for k in alphabet_to_path for alphabet_data in _load_alphabet_dir_(alphabet_to_path[k]) ]"
   ]
  },
  {
   "cell_type": "markdown",
   "metadata": {},
   "source": [
    "### Load Data\n",
    "Load both background (train) and evalutaion (test) set. We load only the filepaths not their contents."
   ]
  },
  {
   "cell_type": "code",
   "execution_count": 7,
   "metadata": {},
   "outputs": [],
   "source": [
    "train_data = load_data(train_alphabet_to_path, simulate=True)\n",
    "test_data  = load_data(test_alphabet_to_path , simulate=True)"
   ]
  },
  {
   "cell_type": "code",
   "execution_count": 8,
   "metadata": {},
   "outputs": [
    {
     "data": {
      "text/plain": [
       "[('Japanese_(hiragana)',\n",
       "  './python/images_background/Japanese_(hiragana)/character36/0523_17.png',\n",
       "  523),\n",
       " ('Japanese_(hiragana)',\n",
       "  './python/images_background/Japanese_(hiragana)/character36/0523_18.png',\n",
       "  523),\n",
       " ('Japanese_(hiragana)',\n",
       "  './python/images_background/Japanese_(hiragana)/character36/0523_04.png',\n",
       "  523),\n",
       " ('Japanese_(hiragana)',\n",
       "  './python/images_background/Japanese_(hiragana)/character36/0523_13.png',\n",
       "  523),\n",
       " ('Japanese_(hiragana)',\n",
       "  './python/images_background/Japanese_(hiragana)/character36/0523_02.png',\n",
       "  523),\n",
       " ('Japanese_(hiragana)',\n",
       "  './python/images_background/Japanese_(hiragana)/character36/0523_03.png',\n",
       "  523),\n",
       " ('Japanese_(hiragana)',\n",
       "  './python/images_background/Japanese_(hiragana)/character36/0523_10.png',\n",
       "  523),\n",
       " ('Japanese_(hiragana)',\n",
       "  './python/images_background/Japanese_(hiragana)/character36/0523_08.png',\n",
       "  523),\n",
       " ('Japanese_(hiragana)',\n",
       "  './python/images_background/Japanese_(hiragana)/character36/0523_14.png',\n",
       "  523),\n",
       " ('Japanese_(hiragana)',\n",
       "  './python/images_background/Japanese_(hiragana)/character36/0523_07.png',\n",
       "  523)]"
      ]
     },
     "execution_count": 8,
     "metadata": {},
     "output_type": "execute_result"
    }
   ],
   "source": [
    "train_data[:10]"
   ]
  },
  {
   "cell_type": "markdown",
   "metadata": {},
   "source": [
    "### Convert to dataframe"
   ]
  },
  {
   "cell_type": "code",
   "execution_count": 9,
   "metadata": {},
   "outputs": [],
   "source": [
    "import pandas as pd"
   ]
  },
  {
   "cell_type": "code",
   "execution_count": 10,
   "metadata": {},
   "outputs": [],
   "source": [
    "col_names = ['alphabet','path','charcode']"
   ]
  },
  {
   "cell_type": "code",
   "execution_count": 11,
   "metadata": {},
   "outputs": [],
   "source": [
    "train_df = pd.DataFrame(train_data, columns=col_names)\n",
    "test_df = pd.DataFrame(test_data, columns=col_names)"
   ]
  },
  {
   "cell_type": "code",
   "execution_count": 12,
   "metadata": {},
   "outputs": [
    {
     "data": {
      "text/html": [
       "<div>\n",
       "<style scoped>\n",
       "    .dataframe tbody tr th:only-of-type {\n",
       "        vertical-align: middle;\n",
       "    }\n",
       "\n",
       "    .dataframe tbody tr th {\n",
       "        vertical-align: top;\n",
       "    }\n",
       "\n",
       "    .dataframe thead th {\n",
       "        text-align: right;\n",
       "    }\n",
       "</style>\n",
       "<table border=\"1\" class=\"dataframe\">\n",
       "  <thead>\n",
       "    <tr style=\"text-align: right;\">\n",
       "      <th></th>\n",
       "      <th>alphabet</th>\n",
       "      <th>path</th>\n",
       "      <th>charcode</th>\n",
       "    </tr>\n",
       "  </thead>\n",
       "  <tbody>\n",
       "    <tr>\n",
       "      <th>0</th>\n",
       "      <td>Japanese_(hiragana)</td>\n",
       "      <td>./python/images_background/Japanese_(hiragana)...</td>\n",
       "      <td>523</td>\n",
       "    </tr>\n",
       "    <tr>\n",
       "      <th>1</th>\n",
       "      <td>Japanese_(hiragana)</td>\n",
       "      <td>./python/images_background/Japanese_(hiragana)...</td>\n",
       "      <td>523</td>\n",
       "    </tr>\n",
       "    <tr>\n",
       "      <th>2</th>\n",
       "      <td>Japanese_(hiragana)</td>\n",
       "      <td>./python/images_background/Japanese_(hiragana)...</td>\n",
       "      <td>523</td>\n",
       "    </tr>\n",
       "    <tr>\n",
       "      <th>3</th>\n",
       "      <td>Japanese_(hiragana)</td>\n",
       "      <td>./python/images_background/Japanese_(hiragana)...</td>\n",
       "      <td>523</td>\n",
       "    </tr>\n",
       "    <tr>\n",
       "      <th>4</th>\n",
       "      <td>Japanese_(hiragana)</td>\n",
       "      <td>./python/images_background/Japanese_(hiragana)...</td>\n",
       "      <td>523</td>\n",
       "    </tr>\n",
       "  </tbody>\n",
       "</table>\n",
       "</div>"
      ],
      "text/plain": [
       "              alphabet                                               path  \\\n",
       "0  Japanese_(hiragana)  ./python/images_background/Japanese_(hiragana)...   \n",
       "1  Japanese_(hiragana)  ./python/images_background/Japanese_(hiragana)...   \n",
       "2  Japanese_(hiragana)  ./python/images_background/Japanese_(hiragana)...   \n",
       "3  Japanese_(hiragana)  ./python/images_background/Japanese_(hiragana)...   \n",
       "4  Japanese_(hiragana)  ./python/images_background/Japanese_(hiragana)...   \n",
       "\n",
       "   charcode  \n",
       "0       523  \n",
       "1       523  \n",
       "2       523  \n",
       "3       523  \n",
       "4       523  "
      ]
     },
     "execution_count": 12,
     "metadata": {},
     "output_type": "execute_result"
    }
   ],
   "source": [
    "train_df.head()"
   ]
  },
  {
   "cell_type": "code",
   "execution_count": 13,
   "metadata": {},
   "outputs": [
    {
     "data": {
      "text/html": [
       "<div>\n",
       "<style scoped>\n",
       "    .dataframe tbody tr th:only-of-type {\n",
       "        vertical-align: middle;\n",
       "    }\n",
       "\n",
       "    .dataframe tbody tr th {\n",
       "        vertical-align: top;\n",
       "    }\n",
       "\n",
       "    .dataframe thead th {\n",
       "        text-align: right;\n",
       "    }\n",
       "</style>\n",
       "<table border=\"1\" class=\"dataframe\">\n",
       "  <thead>\n",
       "    <tr style=\"text-align: right;\">\n",
       "      <th></th>\n",
       "      <th>alphabet</th>\n",
       "      <th>path</th>\n",
       "      <th>charcode</th>\n",
       "    </tr>\n",
       "  </thead>\n",
       "  <tbody>\n",
       "    <tr>\n",
       "      <th>0</th>\n",
       "      <td>Malayalam</td>\n",
       "      <td>./python/images_evaluation/Malayalam/character...</td>\n",
       "      <td>1307</td>\n",
       "    </tr>\n",
       "    <tr>\n",
       "      <th>1</th>\n",
       "      <td>Malayalam</td>\n",
       "      <td>./python/images_evaluation/Malayalam/character...</td>\n",
       "      <td>1307</td>\n",
       "    </tr>\n",
       "    <tr>\n",
       "      <th>2</th>\n",
       "      <td>Malayalam</td>\n",
       "      <td>./python/images_evaluation/Malayalam/character...</td>\n",
       "      <td>1307</td>\n",
       "    </tr>\n",
       "    <tr>\n",
       "      <th>3</th>\n",
       "      <td>Malayalam</td>\n",
       "      <td>./python/images_evaluation/Malayalam/character...</td>\n",
       "      <td>1307</td>\n",
       "    </tr>\n",
       "    <tr>\n",
       "      <th>4</th>\n",
       "      <td>Malayalam</td>\n",
       "      <td>./python/images_evaluation/Malayalam/character...</td>\n",
       "      <td>1307</td>\n",
       "    </tr>\n",
       "  </tbody>\n",
       "</table>\n",
       "</div>"
      ],
      "text/plain": [
       "    alphabet                                               path  charcode\n",
       "0  Malayalam  ./python/images_evaluation/Malayalam/character...      1307\n",
       "1  Malayalam  ./python/images_evaluation/Malayalam/character...      1307\n",
       "2  Malayalam  ./python/images_evaluation/Malayalam/character...      1307\n",
       "3  Malayalam  ./python/images_evaluation/Malayalam/character...      1307\n",
       "4  Malayalam  ./python/images_evaluation/Malayalam/character...      1307"
      ]
     },
     "execution_count": 13,
     "metadata": {},
     "output_type": "execute_result"
    }
   ],
   "source": [
    "test_df.head()"
   ]
  },
  {
   "cell_type": "markdown",
   "metadata": {},
   "source": [
    "Print number of alphabets."
   ]
  },
  {
   "cell_type": "code",
   "execution_count": 16,
   "metadata": {},
   "outputs": [
    {
     "name": "stdout",
     "output_type": "stream",
     "text": [
      "(30,) (20,)\n"
     ]
    }
   ],
   "source": [
    "print(train_df.alphabet.unique().shape, test_df.alphabet.unique().shape)"
   ]
  },
  {
   "cell_type": "markdown",
   "metadata": {},
   "source": [
    "Print number of unique characters."
   ]
  },
  {
   "cell_type": "code",
   "execution_count": 17,
   "metadata": {},
   "outputs": [
    {
     "name": "stdout",
     "output_type": "stream",
     "text": [
      "(964,) (659,)\n"
     ]
    }
   ],
   "source": [
    "print(train_df.charcode.unique().shape, test_df.charcode.unique().shape)"
   ]
  },
  {
   "cell_type": "markdown",
   "metadata": {},
   "source": [
    "Print total number of instances."
   ]
  },
  {
   "cell_type": "code",
   "execution_count": 18,
   "metadata": {},
   "outputs": [
    {
     "name": "stdout",
     "output_type": "stream",
     "text": [
      "19280 13180\n"
     ]
    }
   ],
   "source": [
    "print(len(train_data), len(test_data))"
   ]
  },
  {
   "cell_type": "markdown",
   "metadata": {},
   "source": [
    "### View a few character images."
   ]
  },
  {
   "cell_type": "code",
   "execution_count": 19,
   "metadata": {},
   "outputs": [],
   "source": [
    "import matplotlib.pyplot as plt\n",
    "\n",
    "def img_grid(imgs, labels=None, nb_cols=8):\n",
    "    nb_imgs = len(imgs)\n",
    "    nb_rows = np.ceil(nb_imgs/nb_cols)\n",
    "    \n",
    "    plt.figure(figsize=(nb_cols, nb_rows))\n",
    "    for i in range(nb_imgs):\n",
    "        plt.tight_layout(w_pad=0.5)\n",
    "        plt.subplot(nb_rows, nb_cols, i+1,)\n",
    "        plt.xticks([])\n",
    "        plt.yticks([])\n",
    "        plt.imshow(imgs[i], cmap='gray')\n",
    "        if labels is not None:\n",
    "            plt.ylabel(labels[i] )\n",
    "    \n",
    "    plt.plot()\n",
    "    "
   ]
  },
  {
   "cell_type": "code",
   "execution_count": 20,
   "metadata": {},
   "outputs": [],
   "source": [
    "def display_chars(df):\n",
    "    labels = list(df.charcode)\n",
    "    img_data = list(map(Image.open,df.path))\n",
    "    \n",
    "    img_grid(img_data, labels)"
   ]
  },
  {
   "cell_type": "code",
   "execution_count": 21,
   "metadata": {},
   "outputs": [
    {
     "data": {
      "image/png": "[encoded data removed]",
      "text/plain": [
       "<matplotlib.figure.Figure at 0x7ff52487cac8>"
      ]
     },
     "metadata": {},
     "output_type": "display_data"
    }
   ],
   "source": [
    "random_indices = np.random.choice(range(len(train_df)),size=100,replace=False)\n",
    "display_chars(train_df.iloc[list(random_indices)])"
   ]
  },
  {
   "cell_type": "markdown",
   "metadata": {},
   "source": [
    "## Understanding The Classification Task\n",
    "The omniglot dataset is different from regular classification datasets in two aspects:\n",
    "\n",
    "- The number of instances (drawings) per class is just 20.\n",
    "- The background set, meant to be used for training, is disjoint with the evaluation set.\n",
    "\n",
    "The omniglot dataset was designed for one-shot learning, where a classifier has to look at a **test instance** of an unknown class and one instance each from $N$ other unknown classes and then predict the target class of the test instance based on its similarity to the sample instances. This is known as N-way 1-shot learning because there are $N$ possible target classes and the classifier gets to look at exactly 1 instance per class to identify the most similar class. \n",
    "\n",
    "In a variation, that can be called N-way, k-shot learning, there are N target classes and $k$ instances per class."
   ]
  },
  {
   "cell_type": "markdown",
   "metadata": {},
   "source": [
    "Here is an example of 20-way 1-shot learning task from the paper **Siamese Neural Networks for One-shot Image Recognition** by Salakhuditnov et. al. \n",
    "![20 way 1-shot classification on Omniglot dataset](res/20way.png)\n",
    "\n",
    "*The lone test image is shown above the grid\n",
    "of 20 images representing the possible unseen classes that we can\n",
    "choose for the test image. These 20 images are our only known\n",
    "examples of each of those classes.*"
   ]
  },
  {
   "cell_type": "markdown",
   "metadata": {},
   "source": [
    "---"
   ]
  },
  {
   "cell_type": "markdown",
   "metadata": {},
   "source": [
    "## Traditional Supervrised Training Methodology\n",
    "In any traditional classification approach, the classifier is trained with inputs of the form \n",
    "\n",
    "$$[(x_1,y_1),\\ (x_2,y_2),\\ ...\\ (x_n,y_n)]$$\n",
    "\n",
    "where the $x_i$ are instances of data from different classes and the $y_i$ are the corresponding labels.\n",
    "\n",
    "Such a classifier, having model parameters $\\Theta$, learns to find discriminative features $f(x,\\Theta)$ and predict class probabilities $\\hat{y}=g(f(x,\\Theta))$ so as to minimize some loss $L(\\cdot)$ that is a function of the actual class labels  and the class probabilities predicted by the classifier:\n",
    "\n",
    "$$\\underset {\\Theta}{min}\\  \\sum \\limits_{i=1}^{n} L(y_i, \\hat{y_i}) \\equiv \\underset {\\Theta}{min}\\  \\sum \\limits_{i=1}^{n} L(y_i,g(f(x_i,\\Theta))) $$\n",
    "\n",
    "Given enough instances of data per class, the classifier learns to recognize intra-class variations from inter-class variations without explicitly being designed to do so."
   ]
  },
  {
   "cell_type": "markdown",
   "metadata": {},
   "source": [
    "**The omniglot dataset has only 20 images per character and it is very difficult to train a classifier to learn to recognize the characters in the training set with such a limited amount of data. More importantly, the train and test sets are disjoint so a classifier trained to discriminate among the characters in the training set is unlikely to learn to generalize to discriminate among the characters in the test set. **\n"
   ]
  },
  {
   "cell_type": "markdown",
   "metadata": {},
   "source": [
    "## Supervised Training for Performing Pairwise Discrimination\n",
    "An alternative approach that works with a smaller datasets is to explicitly train a classifier with pairs of inputs of the form $[\\big((x_1,y_1),(x_1',y_1')\\big),\\ \\big((x_2,y_2),(x_2',y_2')\\big)\\ ...\\ \\big((x_n,y_n),(x_n',y_n')\\big)]$. The classifier learns to find the discriminative features $f(x_i,x_i',\\Theta)$ and predict the  probability $ \\hat{y_i} = g(f(x_i,x_i',\\Theta))$, that the two instances $x_i$, $x_i'$, that are part of the $i^{th}$ training example are dissimilar, by minimizing a loss function $L(\\cdot)$, that is function of the actual dissimilarity and the predicted dissimilarity:\n",
    "$$\\underset \\Theta min  \\sum \\limits_{i=1}^{n} L\\left(D(y_i,y_i'), \\hat{y_i}\\right) \\equiv \\underset \\Theta min \\sum \\limits_{i=1}^{n}  L\\left(D(y_i, y_i'), g\\left(f(x_i,x_i',\\Theta)\\right)\\right)$$\n",
    "\n",
    "where $D(\\cdot)$ is a symmetric (dis)similarity function.\n",
    "\n",
    "If the pairs $(x_i, x_i')$ are randomized the network learns to discriminate pairs of instances without consideration to their order. In other words, the network learns a symmetric score function for the (dis)similarity of instances in a pair. \n",
    "\n",
    "For a training set with a moderate size $n$, the number of training pairs that could be formed is $O(n^2)$ and so the problem of small data is solved. Because the network learns to discriminate instances in pairs the problem of a disjoint train and test sets is also solved. \n",
    "\n",
    "To test the generalization ability of such a network, it is fed pairs of inputs from the test set. If the netowrk is trained to learn the right features, it is able to discriminate pairs of inputs, neither of which it has seen before.  \n",
    "\n",
    "---"
   ]
  },
  {
   "cell_type": "markdown",
   "metadata": {},
   "source": [
    "## Siamese Network Architecture for Pairwise Discrimination\n",
    "The idea behind Siamese Network Architecture is that we can train a convolution neural network to output a compressed representation of its input, then feed it two inputs, and then take the two outputs and pass them through a function that finds the similarity between the two outputs. This combination of neural network followed by a similarity function is then trained on similar and dissimilar input pairs. A sigmoid function can be applied to the output of the similarity function to ensure that the similarity always lies in the range [0,1]\n",
    "\n",
    "From the paper **Siamese Neural Networks for One-shot Image Recognition**: Siamese nets were first introduced in the early 1990s by Bromley and LeCun to solve signature verification as an image matching problem. A siamese neural network consists of twin networks which accept distinct inputs but are joined by an energy function at the top. This function computes some metric between the highest level feature representation on each side. The parameters between the twin networks are tied. Weight tying guarantees that two extremely similar images could not possibly be mapped by their respective networks to very different locations in feature space because each network computes the same function. Also, the network is symmetric, so that whenever we present two distinct images to the twin networks, the top conjoining layer will compute the same metric as if we were to we present the same two images but to the opposite twins.\n",
    "\n",
    "![Siamese Network](res/siamese.png)"
   ]
  },
  {
   "cell_type": "markdown",
   "metadata": {},
   "source": [
    "## Sampling Strategy for Training and Testing"
   ]
  },
  {
   "cell_type": "markdown",
   "metadata": {},
   "source": [
    "## Splitting Training Data for Cross Validation"
   ]
  },
  {
   "cell_type": "code",
   "execution_count": null,
   "metadata": {},
   "outputs": [],
   "source": []
  }
 ],
 "metadata": {
  "kernelspec": {
   "display_name": "Python 3",
   "language": "python",
   "name": "python3"
  },
  "language_info": {
   "codemirror_mode": {
    "name": "ipython",
    "version": 3
   },
   "file_extension": ".py",
   "mimetype": "text/x-python",
   "name": "python",
   "nbconvert_exporter": "python",
   "pygments_lexer": "ipython3",
   "version": "3.6.4"
  }
 },
 "nbformat": 4,
 "nbformat_minor": 2
}
